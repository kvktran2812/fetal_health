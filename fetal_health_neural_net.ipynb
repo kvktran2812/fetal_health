{
 "cells": [
  {
   "cell_type": "markdown",
   "id": "a31ebad1-be31-4e8e-872d-dd7a7bb5e2f8",
   "metadata": {},
   "source": [
    "# Neural Network Model with Pytorch\n",
    "\n",
    "In this notebook we will build a neural network model with Pytorch library. The model will consist of 3 Dense connected layer and one output layer that map to the number of classes need to classify (in this case is 3)"
   ]
  },
  {
   "cell_type": "code",
   "execution_count": 1,
   "id": "faf5e76a-1905-4677-a39b-ec1e685e9dc2",
   "metadata": {},
   "outputs": [],
   "source": [
    "import torch\n",
    "import torch.nn as nn\n",
    "import torch.optim as optim\n",
    "from torch.utils.data import DataLoader, TensorDataset\n",
    "from sklearn.model_selection import train_test_split\n",
    "from sklearn.metrics import accuracy_score, precision_score, recall_score, f1_score, classification_report\n",
    "import numpy as np\n",
    "import pandas as pd"
   ]
  },
  {
   "cell_type": "code",
   "execution_count": 2,
   "id": "32662eee-ddf8-40c4-807b-6afba6347dd0",
   "metadata": {},
   "outputs": [],
   "source": [
    "data = pd.read_csv(\"fetal_health.csv\")\n",
    "X = data.drop(columns=['fetal_health']).values\n",
    "y = data['fetal_health'].values - 1\n",
    "\n",
    "# Train-test split\n",
    "X_train, X_test, y_train, y_test = train_test_split(X, y, test_size=0.2, random_state=42, stratify=y)\n",
    "\n",
    "# Convert to PyTorch tensors\n",
    "X_train_tensor = torch.tensor(X_train, dtype=torch.float32)\n",
    "y_train_tensor = torch.tensor(y_train, dtype=torch.long)\n",
    "X_test_tensor = torch.tensor(X_test, dtype=torch.float32)\n",
    "y_test_tensor = torch.tensor(y_test, dtype=torch.long)\n",
    "\n",
    "# Create DataLoader\n",
    "train_data = TensorDataset(X_train_tensor, y_train_tensor)\n",
    "test_data = TensorDataset(X_test_tensor, y_test_tensor)\n",
    "train_loader = DataLoader(train_data, batch_size=32, shuffle=True)\n",
    "test_loader = DataLoader(test_data, batch_size=32)"
   ]
  },
  {
   "cell_type": "code",
   "execution_count": 3,
   "id": "22528f34-04bc-4b9f-b35f-b4be031836bd",
   "metadata": {},
   "outputs": [
    {
     "name": "stdout",
     "output_type": "stream",
     "text": [
      "NeuralNet(\n",
      "  (relu): ReLU()\n",
      "  (fc1): Linear(in_features=21, out_features=512, bias=True)\n",
      "  (fc2): Linear(in_features=512, out_features=512, bias=True)\n",
      "  (fc3): Linear(in_features=512, out_features=512, bias=True)\n",
      "  (fc4): Linear(in_features=512, out_features=3, bias=True)\n",
      ")\n"
     ]
    }
   ],
   "source": [
    "class NeuralNet(nn.Module):\n",
    "    def __init__(self, input_size, hidden_size, num_classes):\n",
    "        super(NeuralNet, self).__init__()\n",
    "        self.relu = nn.ReLU()\n",
    "        self.fc1 = nn.Linear(input_size, hidden_size)\n",
    "        self.fc2 = nn.Linear(hidden_size, hidden_size)\n",
    "        self.fc3 = nn.Linear(hidden_size, hidden_size)\n",
    "        self.fc4 = nn.Linear(hidden_size, num_classes)\n",
    "        \n",
    "    def forward(self, x):\n",
    "        x = self.fc1(x)\n",
    "        x = self.relu(x)\n",
    "        x = self.fc2(x)\n",
    "        x = self.relu(x)\n",
    "        x = self.fc3(x)\n",
    "        x = self.relu(x)\n",
    "        x = self.fc4(x)\n",
    "        return x\n",
    "        \n",
    "input_size = X_train.shape[1]\n",
    "hidden_size = 512\n",
    "num_classes = len(np.unique(y))\n",
    "model = NeuralNet(input_size, hidden_size, num_classes)\n",
    "\n",
    "print(model)"
   ]
  },
  {
   "cell_type": "code",
   "execution_count": 4,
   "id": "06ef86e7-7f63-44f8-861e-ccff19f828d7",
   "metadata": {},
   "outputs": [],
   "source": [
    "criterion = nn.CrossEntropyLoss()\n",
    "optimizer = optim.Adam(model.parameters(), lr=0.0005)"
   ]
  },
  {
   "cell_type": "code",
   "execution_count": 5,
   "id": "c8cec46a-cb7d-479c-ab87-8b95f955cfb7",
   "metadata": {},
   "outputs": [
    {
     "name": "stdout",
     "output_type": "stream",
     "text": [
      "Epoch [1/20], Loss: 1.3351\n",
      "Epoch [2/20], Loss: 0.4079\n",
      "Epoch [3/20], Loss: 0.3663\n",
      "Epoch [4/20], Loss: 0.4452\n",
      "Epoch [5/20], Loss: 0.3390\n",
      "Epoch [6/20], Loss: 0.3504\n",
      "Epoch [7/20], Loss: 0.3673\n",
      "Epoch [8/20], Loss: 0.3464\n",
      "Epoch [9/20], Loss: 0.3423\n",
      "Epoch [10/20], Loss: 0.3108\n",
      "Epoch [11/20], Loss: 0.3229\n",
      "Epoch [12/20], Loss: 0.3049\n",
      "Epoch [13/20], Loss: 0.3757\n",
      "Epoch [14/20], Loss: 0.3234\n",
      "Epoch [15/20], Loss: 0.3443\n",
      "Epoch [16/20], Loss: 0.3558\n",
      "Epoch [17/20], Loss: 0.3154\n",
      "Epoch [18/20], Loss: 0.3095\n",
      "Epoch [19/20], Loss: 0.3262\n",
      "Epoch [20/20], Loss: 0.2973\n"
     ]
    }
   ],
   "source": [
    "num_epochs = 20\n",
    "for epoch in range(num_epochs):\n",
    "    model.train()\n",
    "    running_loss = 0.0\n",
    "    for X_batch, y_batch in train_loader:\n",
    "        # Forward pass\n",
    "        outputs = model(X_batch)\n",
    "        loss = criterion(outputs, y_batch)\n",
    "        \n",
    "        # Backward pass and optimization\n",
    "        optimizer.zero_grad()\n",
    "        loss.backward()\n",
    "        optimizer.step()\n",
    "        \n",
    "        running_loss += loss.item()\n",
    "    \n",
    "    print(f\"Epoch [{epoch+1}/{num_epochs}], Loss: {running_loss/len(train_loader):.4f}\")"
   ]
  },
  {
   "cell_type": "code",
   "execution_count": 6,
   "id": "8c7170cd-5f13-4ec5-8a09-d552d5d49733",
   "metadata": {},
   "outputs": [
    {
     "name": "stdout",
     "output_type": "stream",
     "text": [
      "Neural Network Model Evaluation Metrics:\n",
      "Accuracy: 0.85\n",
      "Precision: 0.83\n",
      "Recall: 0.85\n",
      "F1 Score: 0.83\n",
      "\n",
      "Classification Report:\n",
      "              precision    recall  f1-score   support\n",
      "\n",
      "           0       0.86      0.98      0.92       332\n",
      "           1       0.57      0.27      0.37        59\n",
      "           2       0.95      0.60      0.74        35\n",
      "\n",
      "    accuracy                           0.85       426\n",
      "   macro avg       0.80      0.62      0.67       426\n",
      "weighted avg       0.83      0.85      0.83       426\n",
      "\n"
     ]
    }
   ],
   "source": [
    "model.eval()\n",
    "y_pred_list = []\n",
    "with torch.no_grad():\n",
    "    for X_batch, _ in test_loader:\n",
    "        outputs = model(X_batch)\n",
    "        _, predicted = torch.max(outputs, 1)\n",
    "        y_pred_list.append(predicted)\n",
    "\n",
    "y_pred = torch.cat(y_pred_list).cpu().numpy()\n",
    "y_true = y_test_tensor.cpu().numpy()\n",
    "\n",
    "# Calculate evaluation metrics\n",
    "accuracy = accuracy_score(y_true, y_pred)\n",
    "precision = precision_score(y_true, y_pred, average='weighted')\n",
    "recall = recall_score(y_true, y_pred, average='weighted')\n",
    "f1 = f1_score(y_true, y_pred, average='weighted')\n",
    "class_report = classification_report(y_true, y_pred)\n",
    "\n",
    "print(\"Neural Network Model Evaluation Metrics:\")\n",
    "print(f\"Accuracy: {accuracy:.2f}\")\n",
    "print(f\"Precision: {precision:.2f}\")\n",
    "print(f\"Recall: {recall:.2f}\")\n",
    "print(f\"F1 Score: {f1:.2f}\")\n",
    "print(\"\\nClassification Report:\")\n",
    "print(class_report)"
   ]
  },
  {
   "cell_type": "code",
   "execution_count": null,
   "id": "7087637f-bdb4-46c4-b3a8-547621cd6768",
   "metadata": {},
   "outputs": [],
   "source": []
  }
 ],
 "metadata": {
  "kernelspec": {
   "display_name": "Python 3 (ipykernel)",
   "language": "python",
   "name": "python3"
  },
  "language_info": {
   "codemirror_mode": {
    "name": "ipython",
    "version": 3
   },
   "file_extension": ".py",
   "mimetype": "text/x-python",
   "name": "python",
   "nbconvert_exporter": "python",
   "pygments_lexer": "ipython3",
   "version": "3.11.7"
  }
 },
 "nbformat": 4,
 "nbformat_minor": 5
}
