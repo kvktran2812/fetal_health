{
 "cells": [
  {
   "cell_type": "code",
   "execution_count": 2,
   "id": "562e2d03-98a0-4495-b879-fac05f3dafef",
   "metadata": {},
   "outputs": [],
   "source": [
    "import numpy as np\n",
    "import pandas as pd\n",
    "import matplotlib.pyplot as plt\n",
    "import seaborn as sns\n",
    "from scipy.stats import ttest_ind"
   ]
  },
  {
   "cell_type": "code",
   "execution_count": 3,
   "id": "4b6c0b8a-25c2-41c9-8988-95f1bfe7b928",
   "metadata": {},
   "outputs": [],
   "source": [
    "df = pd.read_csv(\"fetal_health.csv\")"
   ]
  },
  {
   "cell_type": "code",
   "execution_count": 14,
   "id": "584c8a61-32af-42e3-b7a1-7efc511114f1",
   "metadata": {},
   "outputs": [
    {
     "data": {
      "image/png": "[encoded data removed]",
      "text/plain": [
       "<Figure size 600x400 with 1 Axes>"
      ]
     },
     "metadata": {},
     "output_type": "display_data"
    }
   ],
   "source": [
    "colours=[\"#f7b2b0\",\"#8f7198\", \"#003f5c\"]\n",
    "plt.figure(figsize=(6, 4))\n",
    "sns.countplot(data=df, x=\"fetal_health\", hue=\"fetal_health\", palette=\"viridis\")\n",
    "plt.show()"
   ]
  },
  {
   "cell_type": "code",
   "execution_count": 22,
   "id": "bf98f41b-e426-4389-a922-1b0632d03e1d",
   "metadata": {},
   "outputs": [
    {
     "name": "stdout",
     "output_type": "stream",
     "text": [
      "------------------------------------\n",
      "T-statistic: -26.14240473377487\n",
      "P-value: 7.572815279854655e-131\n",
      "Reject the null hypothesis. There is a significant difference in abnormal_short_term_variability between normal and not normal fetal health.\n",
      "------------------------------------\n",
      "T-statistic: -26.14240473377487\n",
      "P-value: 7.572815279854655e-131\n",
      "Reject the null hypothesis. There is a significant difference in prolongued_decelerations between normal and not normal fetal health.\n",
      "------------------------------------\n",
      "T-statistic: -26.14240473377487\n",
      "P-value: 7.572815279854655e-131\n",
      "Reject the null hypothesis. There is a significant difference in percentage_of_time_with_abnormal_long_term_variability between normal and not normal fetal health.\n",
      "------------------------------------\n",
      "T-statistic: -26.14240473377487\n",
      "P-value: 7.572815279854655e-131\n",
      "Reject the null hypothesis. There is a significant difference in histogram_min between normal and not normal fetal health.\n"
     ]
    }
   ],
   "source": [
    "# abnormal_short_term_variability\n",
    "# prolongued_decelerations\n",
    "# percentage_of_time_with_abnormal_long_term_variability\n",
    "test_columns = [\"abnormal_short_term_variability\", \"prolongued_decelerations\", \"percentage_of_time_with_abnormal_long_term_variability\", \"histogram_min\"]\n",
    "\n",
    "for i in range(4):\n",
    "    normal = df[df[\"fetal_health\"] == 1][test_columns[i]]\n",
    "    not_normal = df[df[\"fetal_health\"] != 1][test_columns[i]]\n",
    "    \n",
    "    t_stat, p_value = ttest_ind(normal_abnormal_short_term_variability, not_normal_abnormal_short_term_variability)\n",
    "\n",
    "    print(\"------------------------------------\")\n",
    "    print(f\"T-statistic: {t_stat}\")\n",
    "    print(f\"P-value: {p_value}\")\n",
    "    \n",
    "    alpha = 0.05  # Significance level\n",
    "    if p_value < alpha:\n",
    "        print(f\"Reject the null hypothesis. There is a significant difference in {test_columns[i]} between normal and not normal fetal health.\")\n",
    "    else:\n",
    "        print(f\"Fail to reject the null hypothesis. No significant difference in {test_columns[i]} between normal and not normal fetal health.\")"
   ]
  },
  {
   "cell_type": "code",
   "execution_count": 25,
   "id": "e73368df-57bc-4446-a4e1-e804294ca0ea",
   "metadata": {},
   "outputs": [
    {
     "name": "stdout",
     "output_type": "stream",
     "text": [
      "------------------------------------\n",
      "T-statistic: -26.14240473377487\n",
      "P-value: 7.572815279854655e-131\n",
      "Reject the null hypothesis. There is a significant difference in baseline value between normal and not normal fetal health.\n"
     ]
    }
   ],
   "source": [
    "test_columns = \"baseline value\"\n",
    "\n",
    "normal = df[df[\"fetal_health\"] == 1][test_columns]\n",
    "not_normal = df[df[\"fetal_health\"] != 1][test_columns]\n",
    "\n",
    "t_stat, p_value = ttest_ind(normal_abnormal_short_term_variability, not_normal_abnormal_short_term_variability)\n",
    "\n",
    "print(\"------------------------------------\")\n",
    "print(f\"T-statistic: {t_stat}\")\n",
    "print(f\"P-value: {p_value}\")\n",
    "\n",
    "alpha = 0.05  # Significance level\n",
    "if p_value < alpha:\n",
    "    print(f\"Reject the null hypothesis. There is a significant difference in {test_columns} between normal and not normal fetal health.\")\n",
    "else:\n",
    "    print(f\"Fail to reject the null hypothesis. No significant difference in {test_columns} between normal and not normal fetal health.\")"
   ]
  },
  {
   "cell_type": "code",
   "execution_count": null,
   "id": "46861877-e082-450a-b243-5d3ba9dcf757",
   "metadata": {},
   "outputs": [],
   "source": []
  }
 ],
 "metadata": {
  "kernelspec": {
   "display_name": "Python 3 (ipykernel)",
   "language": "python",
   "name": "python3"
  },
  "language_info": {
   "codemirror_mode": {
    "name": "ipython",
    "version": 3
   },
   "file_extension": ".py",
   "mimetype": "text/x-python",
   "name": "python",
   "nbconvert_exporter": "python",
   "pygments_lexer": "ipython3",
   "version": "3.11.7"
  }
 },
 "nbformat": 4,
 "nbformat_minor": 5
}
